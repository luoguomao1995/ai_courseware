{
 "cells": [
  {
   "cell_type": "markdown",
   "id": "39208ce8",
   "metadata": {},
   "source": [
    "## 暖场讨论\n",
    "\n",
    "1. 你是管理层吗？做管理比做一线有什么爽的？\n",
    "2. 你是一线开发吗？吐槽下你的管理层吧。\n"
   ]
  },
  {
   "cell_type": "markdown",
   "id": "2aef9505-ce05-4c56-b2a4-4eb69cd80fc7",
   "metadata": {
    "tags": []
   },
   "source": [
    "## 💡 这节课会带给你\n"
   ]
  },
  {
   "cell_type": "markdown",
   "id": "b2702a9f-0ee2-47dd-a417-6d223a29fdb2",
   "metadata": {
    "jp-MarkdownHeadingCollapsed": true,
    "tags": []
   },
   "source": [
    "1. 如何用 AI 辅助编程，提升工作效率和幸福感\n",
    "1. 如何用 AI 快速应用和学习新技术，扩展职业边界\n",
    "1. 通过 AI 编程，洞察 AI 的能力本质\n",
    "\n",
    "开始上课！\n"
   ]
  },
  {
   "cell_type": "markdown",
   "id": "58f527b8",
   "metadata": {},
   "source": [
    "## 什么是 AI 编程？\n",
    "\n",
    "1. 简单说：用 AI 帮我们写代码\n",
    "2. 它懂的语言比你多，编码速度比你快，bug 比你少，可维护性比你好……\n",
    "3. 怕不怕？🙃\n"
   ]
  },
  {
   "cell_type": "markdown",
   "id": "d858865e-a95b-4d87-a7ee-cdd3b9c438b9",
   "metadata": {
    "tags": []
   },
   "source": [
    "## AI 编程，不只是提效\n"
   ]
  },
  {
   "cell_type": "markdown",
   "id": "adc44093-798c-44e3-ae3f-4037595adf5e",
   "metadata": {
    "jp-MarkdownHeadingCollapsed": true,
    "tags": []
   },
   "source": [
    "我真是前端小白，ChatALL 真是[靠 AI 打的基础](https://github.com/sunner/ChatALL/commits/main?after=88feb406f09a466eada4e5e0af2df1e39c3e2c95+653&branch=main&qualified_name=refs%2Fheads%2Fmain)。\n",
    "\n",
    "感受：用上 AI 编程，秒变技术总监，并拥有一个**不疲倦、不拒绝、不抱怨、不顶嘴、不要加薪**的全能下属。\n",
    "\n",
    "1. 省却繁琐重复性工作，幸福感提升。但下属表现不稳定，有幻觉，也挺闹心\n",
    "2. 突破个人能力边界，下属会就相当于我会。但总拿不准下属做得对不对，怕被糊弄\n",
    "\n",
    "当 AI 的总监，能更了解 AI：\n",
    "\n",
    "- 「编程」是目前大模型能力最强的垂直领域，甚至超越了对「自然语言」本身的处理能力。因为：\n",
    "  - 编程语言无二义性\n",
    "  - 结果可衡量\n",
    "  - 训练数据质量高\n",
    "  - [编程训练能增强模型的推理能力](https://arxiv.org/pdf/2211.09110.pdf)，所以会特别着意训练\n",
    "- 知道怎么用好 AI 编程，了解它的能力边界、使用场景，就能类比出在其他领域 AI 怎么落地，能力上限在哪\n",
    "  - 此观点是我们原创，在分享过数次后，GitHub 官方发了一篇文章：[How to build an enterprise LLM application: Lessons from GitHub Copilot](https://github.blog/2023-09-06-how-to-build-an-enterprise-llm-application-lessons-from-github-copilot/)。当然，这只是巧合。\n",
    "\n",
    "所以：\n",
    "\n",
    "<div class=\"alert alert-success\">\n",
    "<b>划重点：</b>使用 AI 编程，除了解决编程问题以外，更重要是形成对 AI 的正确认知。\n",
    "</div>\n",
    "\n",
    "比如，除了铺天盖地的对话式 AI 外，补全式的用户体验其实更好。\n"
   ]
  },
  {
   "cell_type": "markdown",
   "id": "9c9315f3",
   "metadata": {},
   "source": [
    "## 补全式编程：GitHub Copilot\n"
   ]
  },
  {
   "cell_type": "markdown",
   "id": "8dcdfc2d",
   "metadata": {},
   "source": [
    "[GitHub Copilot](https://github.com/features/copilot) 创造了一个奇迹：\n",
    "\n",
    "**所有竞争对手（Amazon、Google、Meta、腾讯等）都是免费的，每月 10 美元的它仍市占率最高。**\n",
    "\n",
    "不使用它只有一个理由：保密自己的代码。\n",
    "\n",
    "这是一个能提升**幸福感**的工具，随时都有 Aha! 时刻。\n",
    "\n",
    "几个事实：\n",
    "\n",
    "- 2021 年 6 月上线，比 ChatGPT 早近一年半\n",
    "- GitHub 统计：\n",
    "  - 88% 的用户获得效率提升\n",
    "  - 平均 46% 的代码由它完成\n",
    "  - 平均效率提升 55%（网易内部统计 38%）\n",
    "- AGI 课堂调研试用到付费转化率：69%\n",
    "- 个人版 10 美元/月，企业版 19 美元/月\n"
   ]
  },
  {
   "cell_type": "markdown",
   "id": "eb8ba67e",
   "metadata": {},
   "source": [
    "### 安装\n",
    "\n",
    "1. 首先，需要有 GitHub 账号\n",
    "2. 然后，到 https://github.com/settings/copilot 启用\n",
    "3. 最后，安装 IDE 插件，比如\n",
    "   - VSCode: https://marketplace.visualstudio.com/items?itemName=GitHub.copilot\n",
    "   - PyCharm: https://plugins.jetbrains.com/plugin/17718-github-copilot\n",
    "\n",
    "注意：要全局科学上网才能正常使用\n"
   ]
  },
  {
   "cell_type": "markdown",
   "id": "a02d973b",
   "metadata": {},
   "source": [
    "### 使用\n",
    "\n",
    "Copilot 的使用其实不需要学习……正常写代码，就会收获不断的惊喜。\n",
    "\n",
    "它根据上下文，自动生成建议代码。如果觉得合适，按下 tab 就行了。比如：\n",
    "\n",
    "#### 完成整个函数\n",
    "\n",
    "![SQL](sql.gif)\n",
    "\n",
    "#### 写测试用例\n",
    "\n",
    "![testcase](testcase.gif)\n",
    "\n",
    "#### 根据注释写代码\n",
    "\n",
    "![comment](comments2code.gif)\n",
    "\n",
    "但这种用法不太推荐，因为注释里针对 AI 而写的 prompt，并不适合人类阅读。\n",
    "\n",
    "如果想从需求生成代码，更推荐后面介绍的「对话式编程」。\n"
   ]
  },
  {
   "cell_type": "markdown",
   "id": "3d071cea",
   "metadata": {},
   "source": [
    "#### 一些技巧\n",
    "\n",
    "1. 代码有了，补注释。会按照文档标准写注释\n",
    "2. 改写当前代码，可另起一块新写，AI 补全得更准，完成后再删旧代码\n",
    "3. `Cmd/Ctrl + →` 只接受一个 token\n"
   ]
  },
  {
   "cell_type": "markdown",
   "id": "f8a2e741",
   "metadata": {},
   "source": [
    "### Copilot 原理\n"
   ]
  },
  {
   "cell_type": "markdown",
   "id": "6ae3818b",
   "metadata": {},
   "source": [
    "- 最初是使用 OpenAI Codex 模型，它也是 GPT-3.5、GPT-4 的「一部分」。[现在已经完全升级，模型细节未知](https://github.blog/2023-07-28-smarter-more-efficient-coding-github-copilot-goes-beyond-codex-with-improved-ai-model/)。\n",
    "- 应用层的技术就是 prompt engineering。Prompt 中包含：\n",
    "  1. 光标前和光标后的代码片段\n",
    "  1. 其它相关代码片段。当前文件和其它打开的 tab 里的代码被切成每个 60 行的片段，用 [Jaccard 相似度](https://zh.wikipedia.org/wiki/%E9%9B%85%E5%8D%A1%E5%B0%94%E6%8C%87%E6%95%B0)评分，取高分的\n",
    "  1. 被取用的代码片段的路径。用注释的方式插入，例如：`# filepath: foo/bar.py`，或者 `// filepath: foo.bar.js`\n",
    "- 在函数定义、类定义、if-else 等之后，会补全整段代码，其它时候只补全当前行\n",
    "\n",
    "![completion](life-of-a-completion.webp)\n"
   ]
  },
  {
   "cell_type": "markdown",
   "id": "8e393715",
   "metadata": {},
   "source": [
    "### 了解更多\n",
    "\n",
    "- [Inside GitHub: Working with the LLMs behind GitHub Copilot](https://github.blog/2023-05-17-inside-github-working-with-the-llms-behind-github-copilot/)\n",
    "- [How GitHub Copilot is getting better at understanding your code](https://github.blog/2023-05-17-how-github-copilot-is-getting-better-at-understanding-your-code/)\n",
    "- [A developer’s guide to prompt engineering and LLMs](https://github.blog/2023-07-17-prompt-engineering-guide-generative-ai-llms/)\n"
   ]
  },
  {
   "cell_type": "markdown",
   "id": "0feddeef",
   "metadata": {},
   "source": [
    "## 对话式编程\n"
   ]
  },
  {
   "cell_type": "markdown",
   "id": "ceb48676",
   "metadata": {},
   "source": [
    "形式很简单，你发指令，AI 完成任务。效果好坏，取决于模型能力，和你的 prompt。\n"
   ]
  },
  {
   "cell_type": "markdown",
   "id": "099f5cc4",
   "metadata": {},
   "source": [
    "### GPT-4\n",
    "\n",
    "- GPT-4 是目前地球上编程能力最强的大模型，没有之一\n",
    "- 可以购买 [ChatGPT Plus](https://chat.openai.com/?model=gpt-4)，[Poe GPT-4](https://poe.com/GPT-4)，或者直接使用 API key\n",
    "- 免费羊毛是 [Bing Chat](https://bing.com/new)\n",
    "- 用 [ChatALL](https://chatall.ai) 同时使用它们，是避免幻觉的最佳方式\n",
    "\n",
    "使用技巧：\n",
    "\n",
    "- 所有 prompt engineering 的技巧都有效，可以把代码、错误信息直接粘贴进去\n",
    "- 不只写代码，任何技术相关的问题都可以问，比自己搜索效率高很多\n",
    "- ChatALL 大量依赖 GPT-4。过程实录：https://chat.openai.com/share/ecfafa99-aaad-4432-a40c-81c261376758 （对话轮次非常多加载慢，所以经常超时 404，换时间多试几次）。如果打不开，[这个图](gpt-4-chatall.png)截取了开始部分。\n",
    "- 其实，太多轮次对话并不会带来性能提升，可能反倒引入不相关的东西。开新轮次，最近 5 轮对话带足够的信息量，效果更好\n"
   ]
  },
  {
   "cell_type": "markdown",
   "id": "0944b031-f389-4c61-8720-43acfb550de3",
   "metadata": {},
   "source": [
    "<div class=\"alert alert-success\">\n",
    "<b>划重点：</b>\n",
    "    <ul>\n",
    "        <li>不会写的代码问 AI：说清楚你的输入、输出、希望实现的功能，包括用什么库实现（如果知道） </li>\n",
    "        <li>让 AI 帮你 Debug：把你的代码和报错信息一起贴给 GPT-4，可以让它帮你调试/修改代码</li>\n",
    "    </ul>\n",
    "</div>\n",
    "\n",
    "<img src=\"debug.png\" width=800px>"
   ]
  },
  {
   "cell_type": "markdown",
   "id": "29d6876a",
   "metadata": {},
   "source": [
    "### GitHub Copilot chat\n",
    "\n",
    "[目前是Preview版](https://marketplace.visualstudio.com/items?itemName=GitHub.copilot-chat)\n",
    "\n",
    "官方使用演示：\n",
    "\n",
    "<video src=\"Copilot-Chat-Debug-Blog.mp4\" controls=\"controls\" width=\"100%\" height=\"auto\" preload=\"none\"></video>\n",
    "\n",
    "<video src=\"CopilotChatVSInlineRefinement.mp4\" controls=\"controls\" width=\"100%\" height=\"auto\" preload=\"none\"></video>\n",
    "\n",
    "经验：\n",
    "\n",
    "1. 猜测背后是 gpt-3.5-turbo，比 gpt-4 效果差很多很多\n",
    "2. 因为和 IDE 结合得好，所以简单任务交给它更高效\n",
    "3. 各种场景都有「Ask Copilot」链接，`Cmd/Ctrl + i` 直接呼出\n",
    "4. 可以解释代码、修 bug、改进代码、写测试用例等等\n",
    "5. 它会从 terminal 里取 context\n",
    "\n",
    "Copilot chat 是 [Copilot X](https://github.com/features/preview/copilot-x) 的一部分。Copilot X 是个野心勃勃的项目，要把 AI 带到所有编程场景。\n"
   ]
  },
  {
   "cell_type": "markdown",
   "id": "f3526dd8",
   "metadata": {},
   "source": [
    "### Agent 们\n",
    "\n",
    "前面的工具都是帮你编程，而 Agent 是完全代替你编程。甚至能做更多……\n",
    "\n",
    "<div class=\"alert alert-warning\">\n",
    "<b>警告：</b>以下介绍的现在都只能玩玩，做技术探讨，还远没到实用的程度。\n",
    "</div>\n"
   ]
  },
  {
   "cell_type": "markdown",
   "id": "af115999",
   "metadata": {},
   "source": [
    "#### GPT Engineer\n",
    "\n",
    "https://github.com/AntonOsika/gpt-engineer\n",
    "\n",
    "指定您想要它构建的内容，AI 会要求澄清，然后构建它。\n",
    "\n",
    "只需三步操作：\n",
    "\n",
    "```bash\n",
    "pip install gpt-engineer\n",
    "vim prompt\n",
    "gpt-engineer .\n",
    "```\n",
    "\n",
    "核心 prompts：https://github.com/AntonOsika/gpt-engineer/tree/main/gpt_engineer/preprompts\n",
    "\n",
    "一句话评价：什么都能干，所以还什么都干不好。\n"
   ]
  },
  {
   "cell_type": "markdown",
   "id": "91a3c8f5",
   "metadata": {},
   "source": [
    "### GPT Web App Generator\n",
    "\n",
    "主页：https://magic-app-generator.wasp-lang.dev/\n",
    "\n",
    "源代码：https://github.com/wasp-lang/wasp/tree/wasp-ai\n",
    "\n",
    "用 Wasp, React, Node.js 和 Prisma 生成全栈 Web 应用程序。\n",
    "\n",
    "纯在线操作，跟着提示下载到本地执行。\n",
    "\n",
    "核心 prompts：https://github.com/wasp-lang/wasp/blob/wasp-ai/waspc/src/Wasp/AI/GenerateNewProject/Operation.hs\n",
    "\n",
    "一句话评价：限定了技术栈，用参数做配置，提供框架代码，成品率更高。各种框架都该效仿。\n"
   ]
  },
  {
   "cell_type": "markdown",
   "id": "ac4fd524",
   "metadata": {},
   "source": [
    "### MetaGPT：多智能体元编程框架\n",
    "\n",
    "https://github.com/geekan/MetaGPT\n",
    "\n",
    "使 GPTs 组成软件公司，协作处理更复杂的任务。\n",
    "\n",
    "官方说明：\n",
    "\n",
    "1. MetaGPT 输入**一句话的老板需求**，输出**用户故事 / 竞品分析 / 需求 / 数据结构 / APIs / 文件等**\n",
    "2. MetaGPT 内部包括**产品经理 / 架构师 / 项目经理 / 工程师**，它提供了一个**软件公司**的全过程与精心调配的 SOP\n",
    "\n",
    "![公司](https://github.com/geekan/MetaGPT/raw/main/docs/resources/software_company_cd.jpeg)\n",
    "\n",
    "它不只写代码，而且写文档、画图。\n",
    "\n",
    "安装比较繁琐，而且我没成功……\n",
    "\n",
    "核心 prompts：https://github.com/geekan/MetaGPT/tree/main/metagpt/prompts\n",
    "\n",
    "一句话评价： 让 agent 模拟岗位这个思路挺有意思。未来的公司就是人和 agent 混合的，这样的系统架构更匹配公司治理。\n",
    "\n",
    "特别值得一提：MetaGPT 的目标其实是个比肩 LangChain 的框架。我们后面再说\n"
   ]
  },
  {
   "cell_type": "markdown",
   "id": "6210d200-ca13-4445-ad79-f82d115e9a7d",
   "metadata": {
    "tags": []
   },
   "source": [
    "## AI 编程的适用场景\n"
   ]
  },
  {
   "cell_type": "markdown",
   "id": "2b69fb8f",
   "metadata": {},
   "source": [
    "1. 技术我懂，不想自己写\n",
    "   - 快速完成重复性工作\n",
    "   - 知道是咋回事，但要费费脑子才能写出来\n",
    "2. 技术不大懂，让 AI 先做，自己边用边学\n",
    "   - 当心它犯错\n",
    "   - 当心给的不是最佳方案\n",
    "\n",
    "如果完全不懂技术，**不要**指望能用 AI 完成真实系统的编程任务！\n",
    "\n",
    "<div class=\"alert alert-success\">\n",
    "<b>划重点：</b>AI 的能力不会超过使用者的判断力\n",
    "</div>\n"
   ]
  },
  {
   "cell_type": "markdown",
   "id": "1c87f4d9",
   "metadata": {},
   "source": [
    "## 其它\n"
   ]
  },
  {
   "cell_type": "markdown",
   "id": "a6a75946",
   "metadata": {},
   "source": [
    "### 国产开源 CodeGeeX\n",
    "\n",
    "[CodeGeeX](https://github.com/THUDM/CodeGeeX) 是 GitHub Copilot 的替代品。\n",
    "\n",
    "1. 纯国产，智谱 AI 制造\n",
    "2. IDE 插件免费使用\n",
    "3. 模型开源，个人使用免费，商用需授权\n",
    "4. 补全和对话插件都有\n"
   ]
  },
  {
   "cell_type": "markdown",
   "id": "8e8417c8",
   "metadata": {},
   "source": [
    "### 更多工具\n",
    "\n",
    "1. [Bito](https://bito.ai/) - 基于 GPT-3.5 的代码补全，免费。功能更多，比如可以自建 prompt 模板。**CLI 工具值得一用**\n",
    "2. [Amazon CodeWhisperer](https://aws.amazon.com/codewhisperer/) - 代码补全，免费。AWS 相关的编程能力卓越。其它凑合\n",
    "3. [Cursor](https://www.cursor.so/) - AI first 的 IDE。被逼开源\n",
    "4. [Tabnine](https://www.tabnine.com/) - 代码补全，个人基础版免费\n"
   ]
  },
  {
   "cell_type": "markdown",
   "id": "b8283423",
   "metadata": {},
   "source": [
    "### 更多开源编程大模型\n",
    "\n",
    "1. [Code Llama](https://ai.meta.com/blog/code-llama-large-language-model-coding/) - Meta 出品，可能是开源中最强的\n",
    "2. [姜子牙 Ziya-Coding-15B-v1](https://huggingface.co/IDEA-CCNL/Ziya-Coding-15B-v1) - 深圳 IDEA 研究院出品\n",
    "3. [CodeFuse-CodeLlama-34B](https://huggingface.co/codefuse-ai/CodeFuse-CodeLlama-34B) - 阿里出品\n",
    "4. [WizardCoder](https://github.com/nlpxucan/WizardLM) - WizardLM 出品\n"
   ]
  },
  {
   "cell_type": "markdown",
   "id": "5c8ef420-c793-4aee-a9e9-4837c8113188",
   "metadata": {
    "tags": []
   },
   "source": [
    "## 总结\n"
   ]
  },
  {
   "cell_type": "markdown",
   "id": "243e12b2",
   "metadata": {},
   "source": [
    "<div class=\"alert alert-success\">\n",
    "<b>划重点：</b>\n",
    "<ol>\n",
    "<li>GPT-4 是目前最强编程大模型，没有之一。第二强是 GPT-3.5。<b>剩下的非不得已不要用</b></li>\n",
    "<li>如果不得已，首推 CodeGeeX</li>\n",
    "<li>AI 充满幻觉，它的输出必须有人确认，才能生效</li>\n",
    "<li>AI 的能力不会超过使用者的判断力</li>\n",
    "</ol>\n",
    "</div>\n"
   ]
  },
  {
   "cell_type": "markdown",
   "id": "18c9af9f",
   "metadata": {},
   "source": [
    "## AI 幻觉的必然性，和 AI 能力的天花板\n",
    "\n",
    "AI 祖师爷阿兰·图灵 1947 年在[伦敦数学学会的演讲](https://www.vordenker.de/downloads/turing-vorlesung.pdf)上说过：\n",
    "\n",
    "> 「...if a machine is expected to be infallible, it cannot also be intelligent.（如果一个机器绝对不会犯错，它就不可能是智能的。）」\n",
    "\n",
    "拥有类人的智能，就一定和人类一样，说胡话、瞎话、错话，说有争议的话。\n",
    "\n",
    "所以，AI 的幻觉不可完全消除，只能尽可能压制。\n",
    "\n",
    "所以，使用者的判断力，决定了 AI 能发挥能力的上限。\n",
    "\n",
    "我们原创总结了两个定律。\n",
    "\n",
    "<div class=\"alert alert-success\">\n",
    "<b>AI 能力定律：</b>\n",
    "<p>$\\text{能力落地} = \\min(\\text{AI 能力}, \\text{使用者判断力})$</p>\n",
    "<b>AI 提效定律：</b>\n",
    "<p>$\\text{生产效率提升幅度} = \\frac{\\text{使用者判断力}}{\\text{使用者生产力}}$</p>\n",
    "</div>\n"
   ]
  },
  {
   "cell_type": "markdown",
   "id": "c095fbe6",
   "metadata": {
    "tags": []
   },
   "source": [
    "## 彩蛋\n"
   ]
  },
  {
   "cell_type": "markdown",
   "id": "f028e786",
   "metadata": {},
   "source": [
    "Copilot 白嫖指南：\n",
    "\n",
    "- 参与开源项目，可免费使用。ChatALL 随时欢迎大家参与\n",
    "- 在校生，免费使用。[在此申请](https://docs.github.com/en/education/explore-the-benefits-of-teaching-and-learning-with-github-education/github-global-campus-for-students/apply-to-github-global-campus-as-a-student)\n",
    "- 假装成高校教师，免费使用\n",
    "  1. 需要有一个 edu 邮箱（据说淘宝能买）\n",
    "  2. 到[这里](https://docs.github.com/en/education/explore-the-benefits-of-teaching-and-learning-with-github-education/github-global-campus-for-teachers/apply-to-github-global-campus-as-a-teacher)申请\n",
    "  3. 要上传证明时，大概传个中文文件，就能过……\n"
   ]
  },
  {
   "cell_type": "markdown",
   "id": "82d82a94",
   "metadata": {},
   "source": [
    "## 作业\n"
   ]
  },
  {
   "cell_type": "markdown",
   "id": "84f1fcce",
   "metadata": {},
   "source": [
    "开始使用 AI 编程，把 Aha! 时刻分享到群\n"
   ]
  }
 ],
 "metadata": {
  "kernelspec": {
   "display_name": "Python 3 (ipykernel)",
   "language": "python",
   "name": "python3"
  },
  "language_info": {
   "codemirror_mode": {
    "name": "ipython",
    "version": 3
   },
   "file_extension": ".py",
   "mimetype": "text/x-python",
   "name": "python",
   "nbconvert_exporter": "python",
   "pygments_lexer": "ipython3",
   "version": "3.11.4"
  }
 },
 "nbformat": 4,
 "nbformat_minor": 5
}
