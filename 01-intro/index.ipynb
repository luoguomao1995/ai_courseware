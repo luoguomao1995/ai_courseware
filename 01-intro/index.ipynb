{
 "cells": [
  {
   "cell_type": "markdown",
   "metadata": {},
   "source": [
    "# 大模型应用开发基础\n",
    "\n",
    "## 💡 这节课会带给你\n",
    "\n",
    "1. 了解大模型能做什么\n",
    "2. 整体了解大模型应用开发技术栈\n",
    "3. 浅尝 OpenAI API 的调用\n",
    "\n",
    "开始上课！\n"
   ]
  },
  {
   "cell_type": "markdown",
   "metadata": {},
   "source": [
    "## 一、怎样学好这门课\n",
    "\n",
    "1. 课程的设计初心\n",
    "2. 每次课能给你带来什么\n",
    "3. 做自己的选择，定自己的目标\n"
   ]
  },
  {
   "cell_type": "markdown",
   "metadata": {},
   "source": [
    "### 1.1、我们的初心\n",
    "\n",
    "我们相信，**懂 AI、懂编程、懂业务**的超级个体，会是 AGI 时代最重要的人。所以我们提出了「AI 全栈工程师」这个概念，让它显得不那么浮夸。\n",
    "\n",
    "这门课的目标，就是培养「AI 全栈」。\n",
    "\n",
    "- 「全栈」涉及的知识面非常广，区区一门课不可能全部涉及\n",
    "- 我们能做到的是，在各个方向上都为大家打开一扇门，带大家入门\n",
    "- 想走得更深更远，要靠大家自己，我们的社群，和 AI 的进化。\n",
    "\n",
    "但是，「入门」并不代表简单、肤浅。我们的课程会在三个方向发力：\n",
    "\n",
    "1. 原理\n",
    "2. 实践\n",
    "3. 认知\n",
    "\n",
    "**不懂原理**就不会举一反三，走不了太远。\n",
    "\n",
    "**不懂实践**就只能纸上谈兵，做事不落地。\n",
    "\n",
    "**认知不高**就无法做对决策，天花板太低。\n",
    "\n",
    "这三样，都是「干货」。\n",
    "\n",
    "<div class=\"alert alert-info\">\n",
    "<b>强烈提醒！</b>在剧烈变革的时代，千万别拿代码当干货！整个行业都没有确定性，代码的价值就不大。\n",
    "</div>\n"
   ]
  },
  {
   "cell_type": "markdown",
   "metadata": {},
   "source": [
    "### 1.2、知识体系\n",
    "\n",
    "在图中找到自己的地盘。\n",
    "\n",
    "<img src=\"structure.png\" width=600px>\n"
   ]
  },
  {
   "cell_type": "markdown",
   "metadata": {},
   "source": [
    "## 1.3、学习方法\n",
    "\n",
    "我们的职业分布图：\n",
    "\n",
    "<img src=\"job.png\" width=600px>\n",
    "\n",
    "课程内容、难度和进度都是取最大公约数，照顾大多数。典型画像是：\n",
    "\n",
    "1. 懂至少一门编程语言\n",
    "2. 有真实的项目经验\n",
    "3. 对大模型相关技术基本不了解\n",
    "\n",
    "历史上有三类同学会和课程产生分歧：\n",
    "| 学员 | 感受 | 建议 |\n",
    "| -------------------------------- | ------------------------------------ | ---------------------------------------------------- |\n",
    "| 没有实际工程经验，甚至不会编程 | 大量听不懂 | 把能听懂的多实践，凿实。别纠结暂时学不会的，可能只是机缘未到，慢慢来 |\n",
    "| 已经自学过大模型，甚至实践过 | 有部分内容已知，获得感少 | 关注增量，别被存量绑架 |\n",
    "| 带着项目目标前来 | 课程进度太慢，不能直接解决自己的问题 | 欢迎在群里讨论你的项目 |\n",
    "\n",
    "建议取舍：\n",
    "\n",
    "1. 原理一定要用心学。除了 Fine-tuning 原理外，都不算难\n",
    "2. 认知一定要用心领悟。这是这门课最领先的地方\n",
    "3. 编程和工程经验不足，别对着实战太较劲。受些熏陶就是收获\n",
    "\n",
    "别忘了，有一年的会员期可以持续跟学！\n"
   ]
  },
  {
   "cell_type": "markdown",
   "metadata": {
    "id": "1nOf4rvQ13si"
   },
   "source": [
    "## 二、什么是 AI？\n",
    "\n",
    "<img src=\"./ai-timeline.png\" style=\"margin-left: 0px\" width=\"800px\">\n",
    "\n",
    "> 「深蓝」的创造者许峰雄博士说过：「AI is bullshit。深蓝没用任何 AI 算法，就是硬件穷举棋步。」\n",
    "\n",
    "<div class=\"alert alert-warning\">\n",
    "<b>思考：</b>你觉得哪些应用算是 AI？\n",
    "</div>\n",
    "\n",
    "一种观点：基于机器学习、神经网络的是 AI，基于规则、搜索的不是 AI。\n"
   ]
  },
  {
   "cell_type": "markdown",
   "metadata": {
    "id": "1nOf4rvQ13si"
   },
   "source": [
    "## 三、大模型能干什么？\n",
    "\n",
    "大模型，全称「大语言模型」，英文「Large Language Model」，缩写「LLM」。\n",
    "\n",
    "现在，已经不需要再演示了。每人应该都至少和下面一个基于大模型的对话产品，对话过至少 100 次。\n",
    "\n",
    "| 国家 | 对话产品           | 大模型         | 链接                                                             |\n",
    "| ---- | ------------------ | -------------- | ---------------------------------------------------------------- |\n",
    "| 美国 | OpenAI ChatGPT     | GPT-3.5、GPT-4 | [https://chat.openai.com/](https://chat.openai.com/)             |\n",
    "| 美国 | Microsoft Copilot  | GPT-4 和未知   | [https://copilot.microsoft.com/](https://copilot.microsoft.com/) |\n",
    "| 美国 | Google Bard        | PaLM 和 Gemini | [https://bard.google.com/](https://bard.google.com/)             |\n",
    "| 中国 | 百度文心一言       | 文心           | [https://yiyan.baidu.com/](https://yiyan.baidu.com/)             |\n",
    "| 中国 | 讯飞星火           | 星火           | [https://xinghuo.xfyun.cn/](https://xinghuo.xfyun.cn/)           |\n",
    "| 中国 | 智谱清言           | ChatGLM        | [https://chatglm.cn/](https://chatglm.cn/)                       |\n",
    "| 中国 | 月之暗面 Kimi Chat | Moonshot       | [https://kimi.moonshot.cn/](https://kimi.moonshot.cn/)           |\n",
    "| 中国 | MiniMax 星野       | abab           | [https://www.xingyeai.com/](https://www.xingyeai.com/)           |\n",
    "\n",
    "ChatGPT 已一岁，仍是当家扛把子，别人追赶的对象。\n",
    "\n",
    "<div class=\"alert alert-warning\">\n",
    "<b>建议：</b>\n",
    "<ul>\n",
    "<li>建议要有一个访问国外的「通道」，否则无法有顶级体验</li>\n",
    "<li>如果不能访问 ChatGPT，不是 ChatGPT Plus 会员，会非常遗憾</li>\n",
    "<li><a href=\"https://copilot.microsoft.com/\">Copilot</a>是 ChatGPT 免费平替，用的也是宇宙最强 GPT-4 大模型</li>\n",
    "</ul>\n",
    "</div>\n",
    "\n",
    "注册 ChatGPT、Copilot 教程：https://agiclass.feishu.cn/docx/Jt8ydP0RroFCPaxcWGDcUzVrnnd#YtxodWqgdofsa8xb0GOcaD1nny5\n",
    "\n",
    "但是，千万别以为大模型只是聊天机器人。它的应用场景，远不止于此。\n"
   ]
  },
  {
   "cell_type": "markdown",
   "metadata": {
    "id": "1nOf4rvQ13si"
   },
   "source": [
    "### 3.1、按格式输出\n",
    "\n",
    "<img src=\"./gpt-ner.png\" style=\"margin-left: 0px\">\n",
    "\n",
    "### 3.2、分类\n",
    "\n",
    "<img src=\"./gpt-classification.png\" style=\"margin-left: 0px\" width=600px>\n",
    "\n",
    "### 3.3、聚类\n",
    "\n",
    "<img src=\"./gpt-clustering.png\" style=\"margin-left: 0px\" width=600px>\n",
    "\n",
    "### 3.4、持续互动\n",
    "\n",
    "<img src=\"./gpt-decision.png\" style=\"margin-left: 0px\" width=600px>\n",
    "\n",
    "### 3.5、技术相关问题\n",
    "\n",
    "<img src=\"./gpt-plan.png\" style=\"margin-left: 0px\" width=600px>\n",
    "\n",
    "### 3.6、更多举例\n",
    "\n",
    "- **舆情分析：**从公司产品的评论中，分析哪些功能/元素是用户讨论最多的，评价是正向还是负向\n",
    "- **坐席质检：**检查客服/销售人员与用户的对话记录，判断是否有争吵、辱骂、不当言论，话术是否符合标准\n",
    "- **故障解释：**根据系统报错信息，给出方便非技术人员阅读的故障说明\n",
    "- **零代码开发/运维：**自动规划任务，生成指令，自动执行\n",
    "- **生成业务逻辑：**自定义一套业务描述语言（DSL），直接让 ChatGPT 写业务逻辑代码\n",
    "\n",
    "<div class=\"alert alert-warning\">\n",
    "<b>思考：</b>你的业务中，有哪些问题可以用 AI 解决？\n",
    "</div>\n"
   ]
  },
  {
   "cell_type": "markdown",
   "metadata": {
    "id": "1nOf4rvQ13si"
   },
   "source": [
    "### 3.7、可能一切问题，都能解决，所以是 AGI\n",
    "\n",
    "<div class=\"alert alert-success\">\n",
    "<b>划重点：</b>\n",
    "<ol>\n",
    "<li>把大模型看做是一个函数，给输入，<b>生成</b>输出</li>\n",
    "<li>任何业务问题，都可以用语言描述，成为大模型的输入，就能<b>生成</b>业务问题的结果</li>\n",
    "<li>实际工作中，通常需要将业务任务拆解为若干个子任务，分别解决。<b>理解业务本质，对拆解任务有很大帮助！</b></li>\n",
    "</ol>\n",
    "</div>\n",
    "\n",
    "这是美好的理想，现在还远不能做到\n"
   ]
  },
  {
   "cell_type": "markdown",
   "metadata": {
    "id": "1nOf4rvQ13si"
   },
   "source": [
    "## 四、大模型是怎么生成结果的？\n",
    "\n",
    "### 4.1、通俗原理\n",
    "\n",
    "其实，它只是根据上文，猜下一个词（的概率）……\n",
    "\n",
    "<img src=\"./lm-autoregressive.gif\" style=\"margin-left: 0px\">\n"
   ]
  },
  {
   "cell_type": "markdown",
   "metadata": {
    "id": "1nOf4rvQ13si"
   },
   "source": [
    "OpenAI 的接口名就叫「completion」，也证明了其只会「生成」的本质。\n",
    "\n",
    "下面用程序演示「生成下一个字」。你可以自己修改 prompt 试试。还可以使用相同的 prompt 运行多次。\n"
   ]
  },
  {
   "cell_type": "code",
   "execution_count": 27,
   "metadata": {
    "scrolled": true
   },
   "outputs": [
    {
     "name": "stdout",
     "output_type": "stream",
     "text": [
      "忙，但是我下午有些空闲，因为朋友取消"
     ]
    }
   ],
   "source": [
    "from openai import OpenAI\n",
    "import os\n",
    "\n",
    "from dotenv import load_dotenv, find_dotenv\n",
    "_ = load_dotenv(find_dotenv())\n",
    "\n",
    "client = OpenAI()\n",
    "\n",
    "prompt = \"今天我很\"  # 改我试试\n",
    "response = client.completions.create(\n",
    "    model=\"gpt-3.5-turbo-instruct\",\n",
    "    prompt=prompt,\n",
    "    max_tokens=20,\n",
    "    stream=True\n",
    ")\n",
    "\n",
    "for chunk in response:\n",
    "    print(chunk.choices[0].text, end='')"
   ]
  },
  {
   "cell_type": "markdown",
   "metadata": {},
   "source": [
    "### 4.2、略深一点的通俗原理\n",
    "\n",
    "<div class=\"alert alert-success\">\n",
    "<p>用不严密但通俗的语言描述大模型的工作原理：</p>\n",
    "<ol>\n",
    "<li>大模型阅读了人类曾说过的所有的话。这就是「<b>机器学习</b>」，这个过程叫「<b>训练</b>」</li>\n",
    "<li>把一串 token 后面跟着的不同 token 的概率记了下来。记下的就是「<b>参数</b>」，也叫「<b>权重</b>」</li>\n",
    "<li>当我们给它若干 token，大模型就能算出概率最高的下一个 token 是什么。这就是「<b>生成</b>」，也叫「<b>推理</b>」</li>\n",
    "<li>用生成的 token，再加上上文，就能继续生成下一个 token。以此类推，生成更多文字</li>\n",
    "</ol>\n",
    "</div>\n",
    "\n",
    "Token 是什么？\n",
    "\n",
    "1. 可能是一个英文单词，也可能是半个，三分之一个。可能是一个中文词，或者一个汉字，也可能是半个汉字，甚至三分之一个汉字\n",
    "2. 大模型在开训前，需要先训练一个 tokenizer 模型。它能把所有的文本，切成 token\n",
    "\n",
    "<div class=\"alert alert-warning\">\n",
    "<b>思考：</b>\n",
    "<ol>\n",
    "<li>AI 做对的事，怎么用这个原理解释？</li>\n",
    "<li>AI 的幻觉，一本正经地胡说八道，怎么用这个原理解释？</li>\n",
    "</ol>\n",
    "</div>\n"
   ]
  },
  {
   "cell_type": "markdown",
   "metadata": {},
   "source": [
    "### 4.3、再深一点点\n",
    "\n",
    "这套生成机制的内核叫「Transformer 架构」。但其实，transformer 已经不是最先进的了。\n",
    "\n",
    "| 架构        | 设计者                                               | 特点                                     | 链接                                                                                                   |\n",
    "| ----------- | ---------------------------------------------------- | ---------------------------------------- | ------------------------------------------------------------------------------------------------------ |\n",
    "| Transformer | Google                                               | 最流行，几乎所有大模型都用它             | [OpenAI 的代码](https://github.com/openai/finetune-transformer-lm/blob/master/train.py)                |\n",
    "| RWKV        | [PENG Bo](https://www.zhihu.com/people/bopengbopeng) | 可并行训练，推理性能极佳，适合在端侧使用 | [官网](https://www.rwkv.com/)、[RWKV 5 训练代码](https://github.com/BlinkDL/RWKV-LM/tree/main/RWKV-v5) |\n",
    "| Mamba       | CMU & Princeton University                           | 性能更佳，尤其适合长文本生成             | [GitHub](https://github.com/state-spaces/mamba)                                                        |\n"
   ]
  },
  {
   "cell_type": "markdown",
   "metadata": {},
   "source": [
    "## 五、用好 AI 的核心心法\n",
    "\n",
    "OpenAI 首席科学家 Ilya Sutskever 说过：\n",
    "\n",
    "> 数字神经网络各和人脑的生物神经网络，在数学原理上是一样的。\n",
    "\n",
    "所以，我们要：\n",
    "\n",
    "<div class=\"alert alert-success\">\n",
    "把 AI 当人看。<br>\n",
    "把 AI 当人看。<br>\n",
    "把 AI 当人看。\n",
    "</div>\n",
    "\n",
    "我们和凯文·凯利交流时，他说了类似的观点：「和人怎么相处，就和 AI 怎么相处。」\n",
    "\n",
    "1. 用「当人看」来理解 AI\n",
    "2. 用「当人看」来控制 AI\n",
    "3. 用「当人看」来说服用户正确看待 AI 的不足\n",
    "\n",
    "这是贯彻整门课，甚至我们与 AI 为伴的整个生涯的心法。现在不认同、不理解都没关系，慢慢来。\n"
   ]
  },
  {
   "cell_type": "markdown",
   "metadata": {
    "id": "1nOf4rvQ13si"
   },
   "source": [
    "## 六、大模型应用架构\n",
    "\n",
    "大模型技术分两个部分：\n",
    "\n",
    "1. **训练基础大模型**：全世界只需要 1000 人做这个\n",
    "2. **建造大模型应用**：所有技术人，甚至所有人，都需要掌握\n",
    "\n",
    "<div class=\"alert alert-success\">\n",
    "大模型应用技术特点：<strong>门槛低，天花板高。</strong>\n",
    "</div>\n"
   ]
  },
  {
   "cell_type": "markdown",
   "metadata": {},
   "source": [
    "### 6.1、典型业务架构\n",
    "\n",
    "<img src=\"./business_arch.webp\" style=\"margin-left: 0px\" width=700px>\n",
    "\n",
    "Agent 还太超前，Copilot 值得追求。\n"
   ]
  },
  {
   "cell_type": "markdown",
   "metadata": {},
   "source": [
    "### 6.2、技术架构\n",
    "\n",
    "#### 纯 Prompt\n",
    "\n",
    "就像和一个人对话，你说一句，ta 回一句，你再说一句，ta 再回一句……\n",
    "\n",
    "<img src=\"./prompt_arch.png\" style=\"margin-left: 0px\" width=300px>\n"
   ]
  },
  {
   "cell_type": "markdown",
   "metadata": {},
   "source": [
    "#### Agent + Function Calling\n",
    "\n",
    "- Agent：AI 主动提要求\n",
    "- Function Calling：AI 要求执行某个函数\n",
    "- 场景举例：你问过年去哪玩，ta 先反问你有几天假\n",
    "\n",
    "<img src=\"./func_arch.png\" style=\"margin-left: 0px\" width=600px>\n"
   ]
  },
  {
   "cell_type": "markdown",
   "metadata": {},
   "source": [
    "#### RAG = Embeddings + 向量数据库\n",
    "\n",
    "- Embeddings：把文字转换为更易于相似度计算的编码。这种编码叫向量\n",
    "- 向量数据库：把向量存起来，方便查找\n",
    "- 向量搜索：根据输入向量，找到最相似的向量\n",
    "- 场景举例：考试时，看到一道题，到书上找相关内容，再结合题目组成答案。然后，就都忘了\n",
    "\n",
    "<img src=\"./embeddings_arch.png\" style=\"margin-left: 0px\" width=700px>\n"
   ]
  },
  {
   "cell_type": "markdown",
   "metadata": {},
   "source": [
    "#### Fine-tuning\n",
    "\n",
    "努力学习考试内容，长期记住，活学活用。\n",
    "\n",
    "<img src=\"./tech_arch.png\" style=\"margin-left: 0px\" width=700px>\n"
   ]
  },
  {
   "cell_type": "markdown",
   "metadata": {
    "id": "1nOf4rvQ13si"
   },
   "source": [
    "## 七、编程调用 OpenAI API\n",
    "\n",
    "官方文档：https://platform.openai.com/docs/api-reference\n",
    "\n",
    "本课程主要讲 OpenAI 的 GPT 系列大模型的使用，因为：\n",
    "\n",
    "1. 在天花板上，才能看得够远\n",
    "2. 其它大模型都在模仿 ta，更容易触类旁通\n",
    "\n",
    "本课程的主打语言是 Python，因为：\n",
    "\n",
    "1. Python 和 AI 是天生的一对\n",
    "2. Python 是最容易学习的编程语言\n",
    "\n",
    "### 7.1、安装 OpenAI Python 库\n",
    "\n",
    "在命令行执行：\n",
    "\n",
    "```bash\n",
    "pip install --upgrade openai\n",
    "```\n"
   ]
  },
  {
   "cell_type": "markdown",
   "metadata": {},
   "source": [
    "### 7.2、发一条消息\n"
   ]
  },
  {
   "cell_type": "code",
   "execution_count": 22,
   "metadata": {},
   "outputs": [
    {
     "name": "stdout",
     "output_type": "stream",
     "text": [
      "这门课每周二、四上课。\n"
     ]
    }
   ],
   "source": [
    "import openai\n",
    "import os\n",
    "\n",
    "# 加载 .env 文件到环境变量\n",
    "from dotenv import load_dotenv, find_dotenv\n",
    "_ = load_dotenv(find_dotenv())\n",
    "\n",
    "# 初始化 OpenAI 服务。会自动从环境变量加载 OPENAI_API_KEY 和 OPENAI_BASE_URL\n",
    "client = OpenAI()\n",
    "\n",
    "# 消息格式\n",
    "messages = [\n",
    "    {\n",
    "        \"role\": \"system\",\n",
    "        \"content\": \"你是AI助手小瓜，是 AGI 课堂的助教。这门课每周二、四上课。\"\n",
    "    },\n",
    "    {\n",
    "        \"role\": \"user\",\n",
    "        \"content\": \"哪天有课？\"\n",
    "    },\n",
    "\n",
    "]\n",
    "\n",
    "# 调用 GPT-3.5\n",
    "chat_completion = client.chat.completions.create(\n",
    "    model=\"gpt-3.5-turbo\",\n",
    "    messages=messages\n",
    ")\n",
    "\n",
    "# 输出回复\n",
    "print(chat_completion.choices[0].message.content)"
   ]
  },
  {
   "cell_type": "markdown",
   "metadata": {},
   "source": [
    "## 彩蛋\n",
    "\n",
    "我们开发的大模型提效利器：[ChatALL](http://chatall.ai/)。某前端工程师用后表示：「1 小时的调试工作缩短到 5 分钟」。\n"
   ]
  },
  {
   "cell_type": "markdown",
   "metadata": {},
   "source": [
    "## 作业\n",
    "\n",
    "为保证后续课程能正常跟进，请完成如下作业：\n",
    "\n",
    "1. 能正常使用 ChatGPT 或 Copilot 至少之一\n",
    "2. 下载安装 [ChatALL](http://chatall.ai/)，通过它体验 ChatGPT 或/和 Bing Chat（Copilot 曾用名）\n",
    "3. 在 GitHub 给 ChatALL 加个星星（此条自愿 😁）\n"
   ]
  }
 ],
 "metadata": {
  "colab": {
   "provenance": [],
   "toc_visible": true
  },
  "kernelspec": {
   "display_name": "Python 3 (ipykernel)",
   "language": "python",
   "name": "python3"
  },
  "language_info": {
   "codemirror_mode": {
    "name": "ipython",
    "version": 3
   },
   "file_extension": ".py",
   "mimetype": "text/x-python",
   "name": "python",
   "nbconvert_exporter": "python",
   "pygments_lexer": "ipython3",
   "version": "3.11.6"
  }
 },
 "nbformat": 4,
 "nbformat_minor": 4
}
